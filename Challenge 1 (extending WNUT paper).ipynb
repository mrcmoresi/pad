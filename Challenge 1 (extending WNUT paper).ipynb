{
 "cells": [
  {
   "cell_type": "code",
   "execution_count": 1,
   "metadata": {
    "ExecuteTime": {
     "end_time": "2019-07-11T21:26:20.282143Z",
     "start_time": "2019-07-11T21:26:19.213067Z"
    }
   },
   "outputs": [],
   "source": [
    "import pandas as pd\n",
    "import numpy as np\n",
    "import matplotlib.pyplot as plt\n",
    "import os\n",
    "from collections import Counter\n",
    "from sklearn.feature_extraction.text import CountVectorizer, TfidfTransformer\n",
    "from sklearn.pipeline import Pipeline\n",
    "from sklearn.svm import LinearSVC\n",
    "from sklearn.linear_model import LogisticRegression\n",
    "from sklearn.svm import LinearSVC\n",
    "from sklearn.model_selection import ParameterGrid\n",
    "from sklearn.model_selection import train_test_split\n",
    "from sklearn.metrics import confusion_matrix, classification_report, precision_recall_fscore_support\n",
    "import ast\n",
    "LABEL_SHORT = \"short\"\n",
    "LABEL_LONG = \"long\"\n",
    "THRESHOLD = 21\n",
    "SEED = 42"
   ]
  },
  {
   "cell_type": "markdown",
   "metadata": {},
   "source": [
    "## Auxiliar Functions"
   ]
  },
  {
   "cell_type": "code",
   "execution_count": 2,
   "metadata": {
    "ExecuteTime": {
     "end_time": "2019-07-11T21:26:24.006991Z",
     "start_time": "2019-07-11T21:26:23.986166Z"
    }
   },
   "outputs": [],
   "source": [
    "def plot_cm(cm, filename):\n",
    "    '''\n",
    "        Takes in a confusion matrix and saves it as a PNG image.\n",
    "    '''\n",
    "    plt.imshow(cm, cmap=plt.cm.Reds)\n",
    "    plt.tight_layout()\n",
    "    plt.ylabel('True label', fontsize=6)\n",
    "    plt.xlabel('Predicted label', fontsize=6)\n",
    "    plt.xticks(np.arange(len(Config.LABELS)), Config.LABELS, fontsize=8)\n",
    "    plt.yticks(np.arange(len(Config.LABELS)), Config.LABELS, fontsize=8)\n",
    "\n",
    "    thresh = cm.max() * 0.75\n",
    "    for i, j in itertools.product(range(cm.shape[0]), range(cm.shape[1])):\n",
    "        plt.text(j, i, format(cm[i, j], 'd'),\n",
    "                 horizontalalignment=\"center\",\n",
    "                 color=\"white\" if cm[i, j] > thresh else \"black\")\n",
    "\n",
    "    plt.savefig(filename, dpi=300)\n",
    "    plt.close()\n",
    "\n",
    "def get_response_time_label(time):\n",
    "    if time < THRESHOLD:\n",
    "        return LABEL_SHORT\n",
    "    else:\n",
    "        return LABEL_LONG\n",
    "\n",
    "def read_dataset(filename):\n",
    "    dtypes = {\"response_time_sec\": np.int32, \"session_id\": np.int32}\n",
    "    converters = {\"question\": ast.literal_eval, \"response\": ast.literal_eval}\n",
    "    path = filename\n",
    "    data = pd.read_csv(path, sep=\",\", header=0, dtype=dtypes, converters=converters)\n",
    "    return data\n",
    "\n",
    "def dummy_tokenizer(tokens):\n",
    "    return tokens"
   ]
  },
  {
   "cell_type": "markdown",
   "metadata": {},
   "source": [
    "# Clarification Request Classifier"
   ]
  },
  {
   "cell_type": "markdown",
   "metadata": {
    "ExecuteTime": {
     "end_time": "2019-06-20T20:06:17.391792Z",
     "start_time": "2019-06-20T20:06:17.385156Z"
    }
   },
   "source": [
    "## Load dataset"
   ]
  },
  {
   "cell_type": "code",
   "execution_count": 3,
   "metadata": {
    "ExecuteTime": {
     "end_time": "2019-07-11T21:26:25.698359Z",
     "start_time": "2019-07-11T21:26:25.693104Z"
    }
   },
   "outputs": [],
   "source": [
    "dataset_path = \"cs224u-project/data/dataset_qr/\""
   ]
  },
  {
   "cell_type": "code",
   "execution_count": 4,
   "metadata": {
    "ExecuteTime": {
     "end_time": "2019-07-11T21:26:49.316737Z",
     "start_time": "2019-07-11T21:26:26.188191Z"
    }
   },
   "outputs": [],
   "source": [
    "train_df = read_dataset(dataset_path + 'train_question_text_and_response_text_dataset.csv')\n",
    "test_df = read_dataset(dataset_path + 'test_question_text_and_response_text_dataset.csv')\n",
    "dev_df = read_dataset(dataset_path + 'dev_question_text_and_response_text_dataset.csv')\n",
    "tiny_df = read_dataset(dataset_path + 'tiny_question_text_and_response_text_dataset.csv')"
   ]
  },
  {
   "cell_type": "code",
   "execution_count": 5,
   "metadata": {
    "ExecuteTime": {
     "end_time": "2019-07-11T21:27:12.217888Z",
     "start_time": "2019-07-11T21:26:49.319022Z"
    }
   },
   "outputs": [],
   "source": [
    "data = pd.DataFrame()\n",
    "for file in os.listdir(dataset_path):\n",
    "    df = read_dataset(dataset_path+file)\n",
    "    data = data.append(df)"
   ]
  },
  {
   "cell_type": "code",
   "execution_count": 6,
   "metadata": {
    "ExecuteTime": {
     "end_time": "2019-07-11T21:27:12.256296Z",
     "start_time": "2019-07-11T21:27:12.219727Z"
    }
   },
   "outputs": [],
   "source": [
    "data = data.reset_index(drop=True)"
   ]
  },
  {
   "cell_type": "code",
   "execution_count": 7,
   "metadata": {
    "ExecuteTime": {
     "end_time": "2019-07-11T21:27:24.544760Z",
     "start_time": "2019-07-11T21:27:12.259162Z"
    }
   },
   "outputs": [],
   "source": [
    "data['cr'] = data.apply(lambda x: 1 if '?' in x.response else 0, axis=1)"
   ]
  },
  {
   "cell_type": "code",
   "execution_count": 8,
   "metadata": {
    "ExecuteTime": {
     "end_time": "2019-07-11T21:27:24.557959Z",
     "start_time": "2019-07-11T21:27:24.546523Z"
    }
   },
   "outputs": [],
   "source": [
    "cr_df = data[data.cr == 1]"
   ]
  },
  {
   "cell_type": "code",
   "execution_count": 9,
   "metadata": {
    "ExecuteTime": {
     "end_time": "2019-07-11T21:27:24.620214Z",
     "start_time": "2019-07-11T21:27:24.559337Z"
    }
   },
   "outputs": [],
   "source": [
    "not_cr_df = data[data.cr == 0].sample(n=cr_df.shape[0])"
   ]
  },
  {
   "cell_type": "code",
   "execution_count": 10,
   "metadata": {
    "ExecuteTime": {
     "end_time": "2019-07-11T21:27:24.710908Z",
     "start_time": "2019-07-11T21:27:24.622660Z"
    }
   },
   "outputs": [
    {
     "data": {
      "text/html": [
       "<div>\n",
       "<style scoped>\n",
       "    .dataframe tbody tr th:only-of-type {\n",
       "        vertical-align: middle;\n",
       "    }\n",
       "\n",
       "    .dataframe tbody tr th {\n",
       "        vertical-align: top;\n",
       "    }\n",
       "\n",
       "    .dataframe thead th {\n",
       "        text-align: right;\n",
       "    }\n",
       "</style>\n",
       "<table border=\"1\" class=\"dataframe\">\n",
       "  <thead>\n",
       "    <tr style=\"text-align: right;\">\n",
       "      <th></th>\n",
       "      <th>question</th>\n",
       "      <th>response</th>\n",
       "      <th>response_time_sec</th>\n",
       "      <th>session_id</th>\n",
       "      <th>cr</th>\n",
       "    </tr>\n",
       "  </thead>\n",
       "  <tbody>\n",
       "    <tr>\n",
       "      <th>112709</th>\n",
       "      <td>[Awesome, !, So, from, that, what, is, angle, ...</td>\n",
       "      <td>[Hi, are, u, still, there, ?]</td>\n",
       "      <td>2356</td>\n",
       "      <td>318083</td>\n",
       "      <td>1</td>\n",
       "    </tr>\n",
       "    <tr>\n",
       "      <th>163314</th>\n",
       "      <td>[Okay, ., No, worries, !, How, far, you, have,...</td>\n",
       "      <td>[hello, ?]</td>\n",
       "      <td>832</td>\n",
       "      <td>324841</td>\n",
       "      <td>1</td>\n",
       "    </tr>\n",
       "    <tr>\n",
       "      <th>25827</th>\n",
       "      <td>[&lt;url&gt;, Did, you, receive, the, image, ?]</td>\n",
       "      <td>[?]</td>\n",
       "      <td>708</td>\n",
       "      <td>305314</td>\n",
       "      <td>1</td>\n",
       "    </tr>\n",
       "    <tr>\n",
       "      <th>157329</th>\n",
       "      <td>[Do, n't, worry, ;, I, will, guide, you, ., Wh...</td>\n",
       "      <td>[Multiply, ?]</td>\n",
       "      <td>682</td>\n",
       "      <td>324068</td>\n",
       "      <td>1</td>\n",
       "    </tr>\n",
       "    <tr>\n",
       "      <th>47566</th>\n",
       "      <td>[In, problem, number, 9, ,, did, you, first, d...</td>\n",
       "      <td>[, Hey, ,, are, you, still, here, ?, I, got, d...</td>\n",
       "      <td>635</td>\n",
       "      <td>309737</td>\n",
       "      <td>1</td>\n",
       "    </tr>\n",
       "    <tr>\n",
       "      <th>325153</th>\n",
       "      <td>[This, means, that, when, we, simplify, ,, we,...</td>\n",
       "      <td>[?, ?]</td>\n",
       "      <td>439</td>\n",
       "      <td>318102</td>\n",
       "      <td>1</td>\n",
       "    </tr>\n",
       "    <tr>\n",
       "      <th>398443</th>\n",
       "      <td>[Very, good, !, , Now, ,, what, about, \", a, \"...</td>\n",
       "      <td>[7, and, 9, ?]</td>\n",
       "      <td>422</td>\n",
       "      <td>325028</td>\n",
       "      <td>1</td>\n",
       "    </tr>\n",
       "    <tr>\n",
       "      <th>112510</th>\n",
       "      <td>[Yes, ., That, 's, correct, ., We, need, to, s...</td>\n",
       "      <td>[hm, .., would, nt, it, be, r, =, sqrt((l^2/pi...</td>\n",
       "      <td>408</td>\n",
       "      <td>318067</td>\n",
       "      <td>1</td>\n",
       "    </tr>\n",
       "    <tr>\n",
       "      <th>161067</th>\n",
       "      <td>[Yes, ,, we, add, the, downpayment, +, ten, in...</td>\n",
       "      <td>[part, a, is, the, same, formula, as, b, ?]</td>\n",
       "      <td>377</td>\n",
       "      <td>324522</td>\n",
       "      <td>1</td>\n",
       "    </tr>\n",
       "    <tr>\n",
       "      <th>431478</th>\n",
       "      <td>[Not, a, problem, !, We, got, vertical, asympt...</td>\n",
       "      <td>[wym, as, y, tends, to, large, value, ?]</td>\n",
       "      <td>370</td>\n",
       "      <td>342965</td>\n",
       "      <td>1</td>\n",
       "    </tr>\n",
       "    <tr>\n",
       "      <th>9382</th>\n",
       "      <td>[Do, n't, worry, ,, I, will, help, you, ., Let...</td>\n",
       "      <td>[4n, ?]</td>\n",
       "      <td>369</td>\n",
       "      <td>301812</td>\n",
       "      <td>1</td>\n",
       "    </tr>\n",
       "    <tr>\n",
       "      <th>372356</th>\n",
       "      <td>[I, 've, reviewed, your, solution, and, it, is...</td>\n",
       "      <td>[Would, they, cancel, out, ?]</td>\n",
       "      <td>354</td>\n",
       "      <td>306190</td>\n",
       "      <td>1</td>\n",
       "    </tr>\n",
       "    <tr>\n",
       "      <th>93971</th>\n",
       "      <td>[Alright, So, have, you, managed, to, get, sta...</td>\n",
       "      <td>[Hello, ?]</td>\n",
       "      <td>344</td>\n",
       "      <td>315702</td>\n",
       "      <td>1</td>\n",
       "    </tr>\n",
       "    <tr>\n",
       "      <th>568</th>\n",
       "      <td>[The, instructions, are, not, completely, visi...</td>\n",
       "      <td>[What, m, &lt;, D, is, not, 44, ?]</td>\n",
       "      <td>340</td>\n",
       "      <td>299954</td>\n",
       "      <td>1</td>\n",
       "    </tr>\n",
       "    <tr>\n",
       "      <th>283744</th>\n",
       "      <td>[Not, quite, ., Probability, is, the, ratio, o...</td>\n",
       "      <td>[1, to, 2000, ?]</td>\n",
       "      <td>339</td>\n",
       "      <td>340883</td>\n",
       "      <td>1</td>\n",
       "    </tr>\n",
       "    <tr>\n",
       "      <th>363990</th>\n",
       "      <td>[&lt;url&gt;, For, confidence, level, of, 60, and, 6...</td>\n",
       "      <td>[2.5, ?]</td>\n",
       "      <td>337</td>\n",
       "      <td>341534</td>\n",
       "      <td>1</td>\n",
       "    </tr>\n",
       "    <tr>\n",
       "      <th>283734</th>\n",
       "      <td>[Would, you, like, to, give, it, a, try, ?]</td>\n",
       "      <td>[where, would, I, start, ?]</td>\n",
       "      <td>329</td>\n",
       "      <td>340883</td>\n",
       "      <td>1</td>\n",
       "    </tr>\n",
       "    <tr>\n",
       "      <th>6526</th>\n",
       "      <td>[Excellent, ., , :), , What, have, you, tried,...</td>\n",
       "      <td>[All, the, negative, exponents, need, to, move...</td>\n",
       "      <td>321</td>\n",
       "      <td>301132</td>\n",
       "      <td>1</td>\n",
       "    </tr>\n",
       "    <tr>\n",
       "      <th>384711</th>\n",
       "      <td>[Now, let, 's, look, at, a, similar, problem, ...</td>\n",
       "      <td>[But, where, is, \", -, 1, \", coming, from, ?]</td>\n",
       "      <td>314</td>\n",
       "      <td>317187</td>\n",
       "      <td>1</td>\n",
       "    </tr>\n",
       "    <tr>\n",
       "      <th>402440</th>\n",
       "      <td>[Let, me, explain, you, the, concept, clearly,...</td>\n",
       "      <td>[Is, it, like, this, ?]</td>\n",
       "      <td>311</td>\n",
       "      <td>326995</td>\n",
       "      <td>1</td>\n",
       "    </tr>\n",
       "    <tr>\n",
       "      <th>74449</th>\n",
       "      <td>[Good, attempt, !, However, ,, the, inequaliti...</td>\n",
       "      <td>[Have, you, sent, anything, ?]</td>\n",
       "      <td>304</td>\n",
       "      <td>313377</td>\n",
       "      <td>1</td>\n",
       "    </tr>\n",
       "    <tr>\n",
       "      <th>68513</th>\n",
       "      <td>[Great, !, Similarly, can, you, tell, me, what...</td>\n",
       "      <td>[Could, you, write, it, all, on, a, paper, ?]</td>\n",
       "      <td>302</td>\n",
       "      <td>312566</td>\n",
       "      <td>1</td>\n",
       "    </tr>\n",
       "    <tr>\n",
       "      <th>302135</th>\n",
       "      <td>[Can, you, tell, me, how, far, you, have, gott...</td>\n",
       "      <td>[?, ]</td>\n",
       "      <td>301</td>\n",
       "      <td>343253</td>\n",
       "      <td>1</td>\n",
       "    </tr>\n",
       "    <tr>\n",
       "      <th>329361</th>\n",
       "      <td>[When, you, have, a, fraction, with, multiple,...</td>\n",
       "      <td>[Like, this, ?]</td>\n",
       "      <td>299</td>\n",
       "      <td>320878</td>\n",
       "      <td>1</td>\n",
       "    </tr>\n",
       "    <tr>\n",
       "      <th>352510</th>\n",
       "      <td>[Nice, work, ,, you, got, it, !, What, would, ...</td>\n",
       "      <td>[I, have, no, idea, ., Am, I, suppose, to, be,...</td>\n",
       "      <td>298</td>\n",
       "      <td>334314</td>\n",
       "      <td>1</td>\n",
       "    </tr>\n",
       "    <tr>\n",
       "      <th>100911</th>\n",
       "      <td>[Ah, that, is, not, quite, correct, ., , Any, ...</td>\n",
       "      <td>[They, are, congruent, ?]</td>\n",
       "      <td>298</td>\n",
       "      <td>316575</td>\n",
       "      <td>1</td>\n",
       "    </tr>\n",
       "    <tr>\n",
       "      <th>101288</th>\n",
       "      <td>[Does, that, ring, a, bell, ?, Are, you, with,...</td>\n",
       "      <td>[?, ?]</td>\n",
       "      <td>292</td>\n",
       "      <td>316625</td>\n",
       "      <td>1</td>\n",
       "    </tr>\n",
       "    <tr>\n",
       "      <th>398269</th>\n",
       "      <td>[Good, !, Now, let, 's, analyze, the, part, of...</td>\n",
       "      <td>[all, less, than, 4, ?]</td>\n",
       "      <td>292</td>\n",
       "      <td>324977</td>\n",
       "      <td>1</td>\n",
       "    </tr>\n",
       "    <tr>\n",
       "      <th>386002</th>\n",
       "      <td>[Can, you, please, see, my, last, upload, and,...</td>\n",
       "      <td>[so, would, it, be, sqrt, 26, i, ?]</td>\n",
       "      <td>290</td>\n",
       "      <td>317879</td>\n",
       "      <td>1</td>\n",
       "    </tr>\n",
       "    <tr>\n",
       "      <th>121447</th>\n",
       "      <td>[Awesome, !, Can, you, try, finding, w, in, ou...</td>\n",
       "      <td>[Is, the, corresponding, side, to, 6, ,, 12, ?]</td>\n",
       "      <td>289</td>\n",
       "      <td>319266</td>\n",
       "      <td>1</td>\n",
       "    </tr>\n",
       "    <tr>\n",
       "      <th>...</th>\n",
       "      <td>...</td>\n",
       "      <td>...</td>\n",
       "      <td>...</td>\n",
       "      <td>...</td>\n",
       "      <td>...</td>\n",
       "    </tr>\n",
       "    <tr>\n",
       "      <th>78531</th>\n",
       "      <td>[Can, you, share, your, work, ?]</td>\n",
       "      <td>[?]</td>\n",
       "      <td>0</td>\n",
       "      <td>313882</td>\n",
       "      <td>1</td>\n",
       "    </tr>\n",
       "    <tr>\n",
       "      <th>426558</th>\n",
       "      <td>[Two, use, SAS, ,, we, should, have, DE, =, ON...</td>\n",
       "      <td>[wait, what, do, you, mean, ?]</td>\n",
       "      <td>0</td>\n",
       "      <td>340234</td>\n",
       "      <td>1</td>\n",
       "    </tr>\n",
       "    <tr>\n",
       "      <th>279181</th>\n",
       "      <td>[Do, you, mean, c, =, -1, ?]</td>\n",
       "      <td>[9, ?]</td>\n",
       "      <td>0</td>\n",
       "      <td>340255</td>\n",
       "      <td>1</td>\n",
       "    </tr>\n",
       "    <tr>\n",
       "      <th>131673</th>\n",
       "      <td>[Sharon, ,, it, ’s, good, to, see, you, ., I, ...</td>\n",
       "      <td>[Do, you, need, a, clearer, picture, ?]</td>\n",
       "      <td>0</td>\n",
       "      <td>320710</td>\n",
       "      <td>1</td>\n",
       "    </tr>\n",
       "    <tr>\n",
       "      <th>285513</th>\n",
       "      <td>[Excellent, !, x, =, 36, ., Can, you, tell, me...</td>\n",
       "      <td>[Why, they, said, \", exterior, \", like, how, t...</td>\n",
       "      <td>0</td>\n",
       "      <td>341138</td>\n",
       "      <td>1</td>\n",
       "    </tr>\n",
       "    <tr>\n",
       "      <th>412487</th>\n",
       "      <td>[Then, we, get, x=, 45, degrees, ., Or, pi/4, ...</td>\n",
       "      <td>[Would, this, be, correct, ?]</td>\n",
       "      <td>0</td>\n",
       "      <td>332513</td>\n",
       "      <td>1</td>\n",
       "    </tr>\n",
       "    <tr>\n",
       "      <th>103214</th>\n",
       "      <td>[No, worries, !, Let, us, simplify, together, ...</td>\n",
       "      <td>[So, it, would, be, 52=, 32, +, m, squared, ?]</td>\n",
       "      <td>0</td>\n",
       "      <td>316866</td>\n",
       "      <td>1</td>\n",
       "    </tr>\n",
       "    <tr>\n",
       "      <th>413609</th>\n",
       "      <td>[That, is, correct, !, :), Therefore, ,, how, ...</td>\n",
       "      <td>[So, 25.2x+25.2y=1L, ?]</td>\n",
       "      <td>0</td>\n",
       "      <td>333325</td>\n",
       "      <td>1</td>\n",
       "    </tr>\n",
       "    <tr>\n",
       "      <th>313464</th>\n",
       "      <td>[Okay, ,, would, you, like, me, to, look, over...</td>\n",
       "      <td>[Can, you, stay, on, the, line, while, i, try,...</td>\n",
       "      <td>0</td>\n",
       "      <td>311057</td>\n",
       "      <td>1</td>\n",
       "    </tr>\n",
       "    <tr>\n",
       "      <th>17654</th>\n",
       "      <td>[Yeah, ., , :), , So, what, do, you, think, th...</td>\n",
       "      <td>[So, for, our, problem, is, would, be, 89.7, ?]</td>\n",
       "      <td>0</td>\n",
       "      <td>303447</td>\n",
       "      <td>1</td>\n",
       "    </tr>\n",
       "    <tr>\n",
       "      <th>223549</th>\n",
       "      <td>[Yes, indeed, :), Shall, we, now, work, on, th...</td>\n",
       "      <td>[That, 's, the, range, ?]</td>\n",
       "      <td>0</td>\n",
       "      <td>332669</td>\n",
       "      <td>1</td>\n",
       "    </tr>\n",
       "    <tr>\n",
       "      <th>309875</th>\n",
       "      <td>[What, is, the, correct, expression, ?]</td>\n",
       "      <td>[Answer, is, sin^4(x, ), ?]</td>\n",
       "      <td>0</td>\n",
       "      <td>307978</td>\n",
       "      <td>1</td>\n",
       "    </tr>\n",
       "    <tr>\n",
       "      <th>139869</th>\n",
       "      <td>[No, ,, that, 's, only, a, portion, as, well, ...</td>\n",
       "      <td>[440, ?]</td>\n",
       "      <td>0</td>\n",
       "      <td>321843</td>\n",
       "      <td>1</td>\n",
       "    </tr>\n",
       "    <tr>\n",
       "      <th>58587</th>\n",
       "      <td>[Anyway, ,, I, have, to, say, that, you, 're, ...</td>\n",
       "      <td>[So, the, answer, is, CH4, ?]</td>\n",
       "      <td>0</td>\n",
       "      <td>311289</td>\n",
       "      <td>1</td>\n",
       "    </tr>\n",
       "    <tr>\n",
       "      <th>177753</th>\n",
       "      <td>[That, 's, a, great, start, !, What, would, be...</td>\n",
       "      <td>[We, do, n't, have, to, make, the, original, e...</td>\n",
       "      <td>0</td>\n",
       "      <td>326677</td>\n",
       "      <td>1</td>\n",
       "    </tr>\n",
       "    <tr>\n",
       "      <th>373408</th>\n",
       "      <td>[What, do, you, think, u, is, in, our, problem...</td>\n",
       "      <td>[For, that, do, I, use, the, population, ?]</td>\n",
       "      <td>0</td>\n",
       "      <td>307167</td>\n",
       "      <td>1</td>\n",
       "    </tr>\n",
       "    <tr>\n",
       "      <th>71108</th>\n",
       "      <td>[You, 've, got, a, great, start, to, your, pro...</td>\n",
       "      <td>[Ok, !, What, needs, to, be, fixed, ?]</td>\n",
       "      <td>0</td>\n",
       "      <td>312899</td>\n",
       "      <td>1</td>\n",
       "    </tr>\n",
       "    <tr>\n",
       "      <th>10785</th>\n",
       "      <td>[Okay, ,, please, note, that, in, order, to, g...</td>\n",
       "      <td>[Would, the, LCD, be, 12, ?]</td>\n",
       "      <td>0</td>\n",
       "      <td>302189</td>\n",
       "      <td>1</td>\n",
       "    </tr>\n",
       "    <tr>\n",
       "      <th>224921</th>\n",
       "      <td>[Not, quite, right, ., But, good, try, !, What...</td>\n",
       "      <td>[So, can, u, tell, me, how, to, solve, it, ?]</td>\n",
       "      <td>0</td>\n",
       "      <td>332842</td>\n",
       "      <td>1</td>\n",
       "    </tr>\n",
       "    <tr>\n",
       "      <th>158609</th>\n",
       "      <td>[So, ,, knowing, that, ,, what, is, our, a, an...</td>\n",
       "      <td>[Well, then, b, is, 3, and, there, 's, no, a, ?]</td>\n",
       "      <td>0</td>\n",
       "      <td>324219</td>\n",
       "      <td>1</td>\n",
       "    </tr>\n",
       "    <tr>\n",
       "      <th>372606</th>\n",
       "      <td>[In, the, example, problem, ,, he, worked, 28,...</td>\n",
       "      <td>[30r, +, 5(1.4r)=436.60, ?]</td>\n",
       "      <td>0</td>\n",
       "      <td>306421</td>\n",
       "      <td>1</td>\n",
       "    </tr>\n",
       "    <tr>\n",
       "      <th>61961</th>\n",
       "      <td>[You, are, very, welcome, !, Is, there, anythi...</td>\n",
       "      <td>[Can, u, help, with, another, one, ?]</td>\n",
       "      <td>0</td>\n",
       "      <td>311689</td>\n",
       "      <td>1</td>\n",
       "    </tr>\n",
       "    <tr>\n",
       "      <th>310058</th>\n",
       "      <td>[If, that, 's, the, case, ,, we, just, have, t...</td>\n",
       "      <td>[So, why, did, I, get, the, answer, wrong, ?]</td>\n",
       "      <td>0</td>\n",
       "      <td>308312</td>\n",
       "      <td>1</td>\n",
       "    </tr>\n",
       "    <tr>\n",
       "      <th>75717</th>\n",
       "      <td>[We, use, x, -, axis, for, time, t, and, y, -,...</td>\n",
       "      <td>[Is, 480, the, number, of, minutes, for, $, 10...</td>\n",
       "      <td>0</td>\n",
       "      <td>313567</td>\n",
       "      <td>1</td>\n",
       "    </tr>\n",
       "    <tr>\n",
       "      <th>372193</th>\n",
       "      <td>[First, ,, try, to, get, the, value, of, x^2, ...</td>\n",
       "      <td>[2x, ?]</td>\n",
       "      <td>0</td>\n",
       "      <td>306038</td>\n",
       "      <td>1</td>\n",
       "    </tr>\n",
       "    <tr>\n",
       "      <th>372032</th>\n",
       "      <td>[What, do, we, have, in, the, place, of, a, an...</td>\n",
       "      <td>[Or, just, rad3, ?]</td>\n",
       "      <td>0</td>\n",
       "      <td>305829</td>\n",
       "      <td>1</td>\n",
       "    </tr>\n",
       "    <tr>\n",
       "      <th>310133</th>\n",
       "      <td>[How, can, we, do, that, ?]</td>\n",
       "      <td>[?]</td>\n",
       "      <td>0</td>\n",
       "      <td>308327</td>\n",
       "      <td>1</td>\n",
       "    </tr>\n",
       "    <tr>\n",
       "      <th>158750</th>\n",
       "      <td>[Yes, ., By, the, newton, 's, first, law, ., I...</td>\n",
       "      <td>[because, shooting, stars, are, from, are, atm...</td>\n",
       "      <td>0</td>\n",
       "      <td>324232</td>\n",
       "      <td>1</td>\n",
       "    </tr>\n",
       "    <tr>\n",
       "      <th>4155</th>\n",
       "      <td>[Does, that, make, sense, ?]</td>\n",
       "      <td>[Like, that, ?]</td>\n",
       "      <td>0</td>\n",
       "      <td>300637</td>\n",
       "      <td>1</td>\n",
       "    </tr>\n",
       "    <tr>\n",
       "      <th>331120</th>\n",
       "      <td>[Oh, sorry, ,, we, do, n't, need, to, work, th...</td>\n",
       "      <td>[So, would, it, be, $, 237, ?]</td>\n",
       "      <td>0</td>\n",
       "      <td>321822</td>\n",
       "      <td>1</td>\n",
       "    </tr>\n",
       "  </tbody>\n",
       "</table>\n",
       "<p>46381 rows × 5 columns</p>\n",
       "</div>"
      ],
      "text/plain": [
       "                                                 question  \\\n",
       "112709  [Awesome, !, So, from, that, what, is, angle, ...   \n",
       "163314  [Okay, ., No, worries, !, How, far, you, have,...   \n",
       "25827           [<url>, Did, you, receive, the, image, ?]   \n",
       "157329  [Do, n't, worry, ;, I, will, guide, you, ., Wh...   \n",
       "47566   [In, problem, number, 9, ,, did, you, first, d...   \n",
       "325153  [This, means, that, when, we, simplify, ,, we,...   \n",
       "398443  [Very, good, !, , Now, ,, what, about, \", a, \"...   \n",
       "112510  [Yes, ., That, 's, correct, ., We, need, to, s...   \n",
       "161067  [Yes, ,, we, add, the, downpayment, +, ten, in...   \n",
       "431478  [Not, a, problem, !, We, got, vertical, asympt...   \n",
       "9382    [Do, n't, worry, ,, I, will, help, you, ., Let...   \n",
       "372356  [I, 've, reviewed, your, solution, and, it, is...   \n",
       "93971   [Alright, So, have, you, managed, to, get, sta...   \n",
       "568     [The, instructions, are, not, completely, visi...   \n",
       "283744  [Not, quite, ., Probability, is, the, ratio, o...   \n",
       "363990  [<url>, For, confidence, level, of, 60, and, 6...   \n",
       "283734        [Would, you, like, to, give, it, a, try, ?]   \n",
       "6526    [Excellent, ., , :), , What, have, you, tried,...   \n",
       "384711  [Now, let, 's, look, at, a, similar, problem, ...   \n",
       "402440  [Let, me, explain, you, the, concept, clearly,...   \n",
       "74449   [Good, attempt, !, However, ,, the, inequaliti...   \n",
       "68513   [Great, !, Similarly, can, you, tell, me, what...   \n",
       "302135  [Can, you, tell, me, how, far, you, have, gott...   \n",
       "329361  [When, you, have, a, fraction, with, multiple,...   \n",
       "352510  [Nice, work, ,, you, got, it, !, What, would, ...   \n",
       "100911  [Ah, that, is, not, quite, correct, ., , Any, ...   \n",
       "101288  [Does, that, ring, a, bell, ?, Are, you, with,...   \n",
       "398269  [Good, !, Now, let, 's, analyze, the, part, of...   \n",
       "386002  [Can, you, please, see, my, last, upload, and,...   \n",
       "121447  [Awesome, !, Can, you, try, finding, w, in, ou...   \n",
       "...                                                   ...   \n",
       "78531                    [Can, you, share, your, work, ?]   \n",
       "426558  [Two, use, SAS, ,, we, should, have, DE, =, ON...   \n",
       "279181                       [Do, you, mean, c, =, -1, ?]   \n",
       "131673  [Sharon, ,, it, ’s, good, to, see, you, ., I, ...   \n",
       "285513  [Excellent, !, x, =, 36, ., Can, you, tell, me...   \n",
       "412487  [Then, we, get, x=, 45, degrees, ., Or, pi/4, ...   \n",
       "103214  [No, worries, !, Let, us, simplify, together, ...   \n",
       "413609  [That, is, correct, !, :), Therefore, ,, how, ...   \n",
       "313464  [Okay, ,, would, you, like, me, to, look, over...   \n",
       "17654   [Yeah, ., , :), , So, what, do, you, think, th...   \n",
       "223549  [Yes, indeed, :), Shall, we, now, work, on, th...   \n",
       "309875            [What, is, the, correct, expression, ?]   \n",
       "139869  [No, ,, that, 's, only, a, portion, as, well, ...   \n",
       "58587   [Anyway, ,, I, have, to, say, that, you, 're, ...   \n",
       "177753  [That, 's, a, great, start, !, What, would, be...   \n",
       "373408  [What, do, you, think, u, is, in, our, problem...   \n",
       "71108   [You, 've, got, a, great, start, to, your, pro...   \n",
       "10785   [Okay, ,, please, note, that, in, order, to, g...   \n",
       "224921  [Not, quite, right, ., But, good, try, !, What...   \n",
       "158609  [So, ,, knowing, that, ,, what, is, our, a, an...   \n",
       "372606  [In, the, example, problem, ,, he, worked, 28,...   \n",
       "61961   [You, are, very, welcome, !, Is, there, anythi...   \n",
       "310058  [If, that, 's, the, case, ,, we, just, have, t...   \n",
       "75717   [We, use, x, -, axis, for, time, t, and, y, -,...   \n",
       "372193  [First, ,, try, to, get, the, value, of, x^2, ...   \n",
       "372032  [What, do, we, have, in, the, place, of, a, an...   \n",
       "310133                        [How, can, we, do, that, ?]   \n",
       "158750  [Yes, ., By, the, newton, 's, first, law, ., I...   \n",
       "4155                         [Does, that, make, sense, ?]   \n",
       "331120  [Oh, sorry, ,, we, do, n't, need, to, work, th...   \n",
       "\n",
       "                                                 response  response_time_sec  \\\n",
       "112709                      [Hi, are, u, still, there, ?]               2356   \n",
       "163314                                         [hello, ?]                832   \n",
       "25827                                                 [?]                708   \n",
       "157329                                      [Multiply, ?]                682   \n",
       "47566   [, Hey, ,, are, you, still, here, ?, I, got, d...                635   \n",
       "325153                                             [?, ?]                439   \n",
       "398443                                     [7, and, 9, ?]                422   \n",
       "112510  [hm, .., would, nt, it, be, r, =, sqrt((l^2/pi...                408   \n",
       "161067        [part, a, is, the, same, formula, as, b, ?]                377   \n",
       "431478           [wym, as, y, tends, to, large, value, ?]                370   \n",
       "9382                                              [4n, ?]                369   \n",
       "372356                      [Would, they, cancel, out, ?]                354   \n",
       "93971                                          [Hello, ?]                344   \n",
       "568                       [What, m, <, D, is, not, 44, ?]                340   \n",
       "283744                                   [1, to, 2000, ?]                339   \n",
       "363990                                           [2.5, ?]                337   \n",
       "283734                        [where, would, I, start, ?]                329   \n",
       "6526    [All, the, negative, exponents, need, to, move...                321   \n",
       "384711      [But, where, is, \", -, 1, \", coming, from, ?]                314   \n",
       "402440                            [Is, it, like, this, ?]                311   \n",
       "74449                      [Have, you, sent, anything, ?]                304   \n",
       "68513       [Could, you, write, it, all, on, a, paper, ?]                302   \n",
       "302135                                              [?, ]                301   \n",
       "329361                                    [Like, this, ?]                299   \n",
       "352510  [I, have, no, idea, ., Am, I, suppose, to, be,...                298   \n",
       "100911                          [They, are, congruent, ?]                298   \n",
       "101288                                             [?, ?]                292   \n",
       "398269                            [all, less, than, 4, ?]                292   \n",
       "386002                [so, would, it, be, sqrt, 26, i, ?]                290   \n",
       "121447    [Is, the, corresponding, side, to, 6, ,, 12, ?]                289   \n",
       "...                                                   ...                ...   \n",
       "78531                                                 [?]                  0   \n",
       "426558                     [wait, what, do, you, mean, ?]                  0   \n",
       "279181                                             [9, ?]                  0   \n",
       "131673            [Do, you, need, a, clearer, picture, ?]                  0   \n",
       "285513  [Why, they, said, \", exterior, \", like, how, t...                  0   \n",
       "412487                      [Would, this, be, correct, ?]                  0   \n",
       "103214     [So, it, would, be, 52=, 32, +, m, squared, ?]                  0   \n",
       "413609                            [So, 25.2x+25.2y=1L, ?]                  0   \n",
       "313464  [Can, you, stay, on, the, line, while, i, try,...                  0   \n",
       "17654     [So, for, our, problem, is, would, be, 89.7, ?]                  0   \n",
       "223549                          [That, 's, the, range, ?]                  0   \n",
       "309875                        [Answer, is, sin^4(x, ), ?]                  0   \n",
       "139869                                           [440, ?]                  0   \n",
       "58587                       [So, the, answer, is, CH4, ?]                  0   \n",
       "177753  [We, do, n't, have, to, make, the, original, e...                  0   \n",
       "373408        [For, that, do, I, use, the, population, ?]                  0   \n",
       "71108              [Ok, !, What, needs, to, be, fixed, ?]                  0   \n",
       "10785                        [Would, the, LCD, be, 12, ?]                  0   \n",
       "224921      [So, can, u, tell, me, how, to, solve, it, ?]                  0   \n",
       "158609   [Well, then, b, is, 3, and, there, 's, no, a, ?]                  0   \n",
       "372606                        [30r, +, 5(1.4r)=436.60, ?]                  0   \n",
       "61961               [Can, u, help, with, another, one, ?]                  0   \n",
       "310058      [So, why, did, I, get, the, answer, wrong, ?]                  0   \n",
       "75717   [Is, 480, the, number, of, minutes, for, $, 10...                  0   \n",
       "372193                                            [2x, ?]                  0   \n",
       "372032                                [Or, just, rad3, ?]                  0   \n",
       "310133                                                [?]                  0   \n",
       "158750  [because, shooting, stars, are, from, are, atm...                  0   \n",
       "4155                                      [Like, that, ?]                  0   \n",
       "331120                     [So, would, it, be, $, 237, ?]                  0   \n",
       "\n",
       "        session_id  cr  \n",
       "112709      318083   1  \n",
       "163314      324841   1  \n",
       "25827       305314   1  \n",
       "157329      324068   1  \n",
       "47566       309737   1  \n",
       "325153      318102   1  \n",
       "398443      325028   1  \n",
       "112510      318067   1  \n",
       "161067      324522   1  \n",
       "431478      342965   1  \n",
       "9382        301812   1  \n",
       "372356      306190   1  \n",
       "93971       315702   1  \n",
       "568         299954   1  \n",
       "283744      340883   1  \n",
       "363990      341534   1  \n",
       "283734      340883   1  \n",
       "6526        301132   1  \n",
       "384711      317187   1  \n",
       "402440      326995   1  \n",
       "74449       313377   1  \n",
       "68513       312566   1  \n",
       "302135      343253   1  \n",
       "329361      320878   1  \n",
       "352510      334314   1  \n",
       "100911      316575   1  \n",
       "101288      316625   1  \n",
       "398269      324977   1  \n",
       "386002      317879   1  \n",
       "121447      319266   1  \n",
       "...            ...  ..  \n",
       "78531       313882   1  \n",
       "426558      340234   1  \n",
       "279181      340255   1  \n",
       "131673      320710   1  \n",
       "285513      341138   1  \n",
       "412487      332513   1  \n",
       "103214      316866   1  \n",
       "413609      333325   1  \n",
       "313464      311057   1  \n",
       "17654       303447   1  \n",
       "223549      332669   1  \n",
       "309875      307978   1  \n",
       "139869      321843   1  \n",
       "58587       311289   1  \n",
       "177753      326677   1  \n",
       "373408      307167   1  \n",
       "71108       312899   1  \n",
       "10785       302189   1  \n",
       "224921      332842   1  \n",
       "158609      324219   1  \n",
       "372606      306421   1  \n",
       "61961       311689   1  \n",
       "310058      308312   1  \n",
       "75717       313567   1  \n",
       "372193      306038   1  \n",
       "372032      305829   1  \n",
       "310133      308327   1  \n",
       "158750      324232   1  \n",
       "4155        300637   1  \n",
       "331120      321822   1  \n",
       "\n",
       "[46381 rows x 5 columns]"
      ]
     },
     "execution_count": 10,
     "metadata": {},
     "output_type": "execute_result"
    }
   ],
   "source": [
    "cr_df[cr_df.cr == 1].sort_values('response_time_sec', ascending=False)"
   ]
  },
  {
   "cell_type": "code",
   "execution_count": 11,
   "metadata": {
    "ExecuteTime": {
     "end_time": "2019-07-11T21:27:25.248009Z",
     "start_time": "2019-07-11T21:27:24.713594Z"
    }
   },
   "outputs": [
    {
     "name": "stderr",
     "output_type": "stream",
     "text": [
      "/home/mrc/anaconda3/envs/ottaa/lib/python3.6/site-packages/ipykernel_launcher.py:1: SettingWithCopyWarning: \n",
      "A value is trying to be set on a copy of a slice from a DataFrame.\n",
      "Try using .loc[row_indexer,col_indexer] = value instead\n",
      "\n",
      "See the caveats in the documentation: http://pandas.pydata.org/pandas-docs/stable/indexing.html#indexing-view-versus-copy\n",
      "  \"\"\"Entry point for launching an IPython kernel.\n"
     ]
    }
   ],
   "source": [
    "cr_df['target'] = cr_df.response_time_sec.apply(get_response_time_label)"
   ]
  },
  {
   "cell_type": "code",
   "execution_count": 12,
   "metadata": {
    "ExecuteTime": {
     "end_time": "2019-07-11T21:27:25.358640Z",
     "start_time": "2019-07-11T21:27:25.251191Z"
    }
   },
   "outputs": [
    {
     "name": "stderr",
     "output_type": "stream",
     "text": [
      "/home/mrc/anaconda3/envs/ottaa/lib/python3.6/site-packages/pandas/core/frame.py:6692: FutureWarning: Sorting because non-concatenation axis is not aligned. A future version\n",
      "of pandas will change to not sort by default.\n",
      "\n",
      "To accept the future behavior, pass 'sort=False'.\n",
      "\n",
      "To retain the current behavior and silence the warning, pass 'sort=True'.\n",
      "\n",
      "  sort=sort)\n"
     ]
    },
    {
     "data": {
      "text/plain": [
       "Counter({'long': 29882, 'short': 16499})"
      ]
     },
     "execution_count": 12,
     "metadata": {},
     "output_type": "execute_result"
    }
   ],
   "source": [
    "cr_df = cr_df.append(not_cr_df, ignore_index=True)\n",
    "Counter(cr_df[cr_df.cr == 1]['target'])"
   ]
  },
  {
   "cell_type": "code",
   "execution_count": 13,
   "metadata": {
    "ExecuteTime": {
     "end_time": "2019-07-11T21:27:25.389757Z",
     "start_time": "2019-07-11T21:27:25.361050Z"
    }
   },
   "outputs": [],
   "source": [
    "X_train, X_test, y_train, y_test = train_test_split(cr_df.question, cr_df.cr, test_size=0.33, random_state=SEED)"
   ]
  },
  {
   "cell_type": "code",
   "execution_count": 14,
   "metadata": {
    "ExecuteTime": {
     "end_time": "2019-07-11T21:27:34.915282Z",
     "start_time": "2019-07-11T21:27:25.391356Z"
    }
   },
   "outputs": [
    {
     "name": "stderr",
     "output_type": "stream",
     "text": [
      "/home/mrc/anaconda3/envs/ottaa/lib/python3.6/site-packages/sklearn/feature_extraction/text.py:301: UserWarning: Your stop_words may be inconsistent with your preprocessing. Tokenizing the stop words generated tokens ['b', 'c', 'd', 'e', 'f', 'g', 'h', 'k', 'l', 'm', 'n', 'o', 'p', 'r', 's', 't', 'u', 'v', 'w', 'x', 'y'] not in stop_words.\n",
      "  'stop_words.' % sorted(inconsistent))\n"
     ]
    },
    {
     "name": "stdout",
     "output_type": "stream",
     "text": [
      "{'clf__C': 0.5, 'clf__penalty': 'l2'}\n",
      "0.6127324625009728\n",
      "Logistic Regression: \n",
      "{'clf__C': 0.5, 'clf__penalty': 'l2'}\n",
      "              precision    recall  f1-score   support\n",
      "\n",
      "           0       0.63      0.55      0.59     15241\n",
      "           1       0.60      0.68      0.64     15371\n",
      "\n",
      "   micro avg       0.61      0.61      0.61     30612\n",
      "   macro avg       0.62      0.61      0.61     30612\n",
      "weighted avg       0.62      0.61      0.61     30612\n",
      "\n"
     ]
    }
   ],
   "source": [
    "models = {}\n",
    "best_f1 = 0\n",
    "best_grid = {}\n",
    "report = []\n",
    "cm = []\n",
    "\n",
    "params = dict([\n",
    "    #('clf__C', [0.001, 0.01, 0.1, 0.5, 1]),\n",
    "    ('clf__C', [0.5]),\n",
    "    #('clf__ngram_range', [(1,1), (1,2), (1,3)]),\n",
    "    #('clf__penalty', ['l2', 'l1']),\n",
    "    ('clf__penalty', ['l2']),\n",
    "])\n",
    "\n",
    "pipe = Pipeline([\n",
    "    ('vect', CountVectorizer(tokenizer=dummy_tokenizer, lowercase=False, stop_words='english', ngram_range=(1,3))),\n",
    "    ('tfidf', TfidfTransformer()),\n",
    "    ('clf', LogisticRegression(class_weight='balanced', random_state=SEED, solver='saga', n_jobs=4))\n",
    "])\n",
    "\n",
    "for g in ParameterGrid(params):\n",
    "    pipe.set_params(**g)\n",
    "    pipe.fit(X_train, y_train)\n",
    "    preds = pipe.predict(X_test)\n",
    "    p, r, f, s = precision_recall_fscore_support(y_test, preds, average='weighted')\n",
    "    print(g)\n",
    "    print(f)\n",
    "    if f > best_f1:\n",
    "        best_f1 = f\n",
    "        best_grid = g\n",
    "        report = classification_report(y_test, preds)\n",
    "        cm = confusion_matrix(y_test, preds)\n",
    "print(\"Logistic Regression: \")\n",
    "print(best_grid)\n",
    "print(report)\n",
    "models['Logistic Regression'] = best_grid"
   ]
  },
  {
   "cell_type": "code",
   "execution_count": 15,
   "metadata": {
    "ExecuteTime": {
     "end_time": "2019-07-11T21:29:17.335567Z",
     "start_time": "2019-07-11T21:28:54.246460Z"
    }
   },
   "outputs": [
    {
     "name": "stdout",
     "output_type": "stream",
     "text": [
      "{'clf__C': 0.01}\n",
      "0.6190285532119968\n",
      "{'clf__C': 1}\n",
      "0.5963270827321863\n",
      "Linear SVM: \n",
      "{'clf__C': 0.01}\n",
      "              precision    recall  f1-score   support\n",
      "\n",
      "           0       0.64      0.54      0.59     15241\n",
      "           1       0.61      0.70      0.65     15371\n",
      "\n",
      "   micro avg       0.62      0.62      0.62     30612\n",
      "   macro avg       0.62      0.62      0.62     30612\n",
      "weighted avg       0.62      0.62      0.62     30612\n",
      "\n"
     ]
    }
   ],
   "source": [
    "params = dict([\n",
    "    ('clf__C', [0.01, 1]),\n",
    "    #('clf__loss', ['hinge', 'squared_hinge']),\n",
    "])\n",
    "\n",
    "pipe2 = Pipeline([\n",
    "        ('vect', CountVectorizer(tokenizer=dummy_tokenizer, lowercase=False, ngram_range=(1,3))),\n",
    "        ('tfidf', TfidfTransformer()),\n",
    "        ('clf', LinearSVC(class_weight='balanced', random_state=SEED))\n",
    "])\n",
    "\n",
    "best_f1 = 0\n",
    "best_grid = {}\n",
    "report = []\n",
    "cm = []\n",
    "for g in ParameterGrid(params):\n",
    "    pipe2.set_params(**g)\n",
    "    pipe2.fit(X_train, y_train)\n",
    "    preds = pipe2.predict(X_test)\n",
    "    p, r, f, s = precision_recall_fscore_support(y_test, preds, average='weighted')\n",
    "    print(g)\n",
    "    print(f)\n",
    "    if f > best_f1:\n",
    "        best_f1 = f\n",
    "        best_grid = g\n",
    "        report = classification_report(y_test, preds)\n",
    "        cm = confusion_matrix(y_test, preds)\n",
    "\n",
    "print(\"Linear SVM: \")\n",
    "print(best_grid)\n",
    "print(report)\n",
    "\n",
    "models['Linear SVM'] = best_grid"
   ]
  },
  {
   "cell_type": "code",
   "execution_count": 16,
   "metadata": {
    "ExecuteTime": {
     "end_time": "2019-07-11T21:30:06.212862Z",
     "start_time": "2019-07-11T21:29:37.138292Z"
    }
   },
   "outputs": [],
   "source": [
    "data['cr_predicted'] = pipe2.predict(data.question)"
   ]
  },
  {
   "cell_type": "markdown",
   "metadata": {},
   "source": [
    "## Tag dataset"
   ]
  },
  {
   "cell_type": "code",
   "execution_count": 17,
   "metadata": {
    "ExecuteTime": {
     "end_time": "2019-07-11T21:30:33.859884Z",
     "start_time": "2019-07-11T21:30:33.853895Z"
    }
   },
   "outputs": [],
   "source": [
    "def annotate_dataframes(data, pipe):\n",
    "    data['cr_predicted'] = pipe.predict(data.question)\n",
    "    data['target'] = data.response_time_sec.apply(get_response_time_label)\n",
    "    data['len'] = data.question.apply(len)\n",
    "    return data"
   ]
  },
  {
   "cell_type": "code",
   "execution_count": 18,
   "metadata": {
    "ExecuteTime": {
     "end_time": "2019-07-11T21:30:52.567609Z",
     "start_time": "2019-07-11T21:30:34.636606Z"
    }
   },
   "outputs": [],
   "source": [
    "train_df = annotate_dataframes(train_df, pipe)\n",
    "test_df = annotate_dataframes(test_df, pipe)\n",
    "dev_df = annotate_dataframes(dev_df, pipe)"
   ]
  },
  {
   "cell_type": "code",
   "execution_count": 19,
   "metadata": {
    "ExecuteTime": {
     "end_time": "2019-07-11T21:30:52.581566Z",
     "start_time": "2019-07-11T21:30:52.569651Z"
    }
   },
   "outputs": [],
   "source": [
    "from sklearn.base import BaseEstimator, TransformerMixin\n",
    "from sklearn.pipeline import FeatureUnion\n",
    "class SklearnModel(object):\n",
    "    def __init__(self, name, pipe, params_range):\n",
    "        self.name = name\n",
    "        self.pipe = pipe\n",
    "        self.params_range = params_range\n",
    "\n",
    "def text_and_scalar_pipe(scalar, clf):\n",
    "    return Pipeline([\n",
    "        ('union', FeatureUnion(\n",
    "            transformer_list=[\n",
    "                ('text', text_selector_pipe('question')),\n",
    "                ('scalar', scalar_selector_pipe(scalar))\n",
    "                ])),\n",
    "        ('clf', clf)\n",
    "        ])\n",
    "\n",
    "def text_and_scalars_pipe(scalars, clf):\n",
    "    transformer_list = [ ('question', text_selector_pipe('question'))]\n",
    "    for scalar in scalars:\n",
    "        transformer_list.append((scalar, scalar_selector_pipe(scalar)))\n",
    "    return Pipeline([\n",
    "        ('union', FeatureUnion(\n",
    "            transformer_list = transformer_list\n",
    "            )),\n",
    "        ('clf', clf)\n",
    "        ])\n",
    "\n",
    "def text_selector_pipe(key):\n",
    "    return Pipeline([\n",
    "             ('select', ItemSelector(key=key)),\n",
    "             ('vect', CountVectorizer(tokenizer=dummy_tokenizer, lowercase=False, ngram_range=(1,3))),\n",
    "             ('tfidf', TfidfTransformer())\n",
    "             ])\n",
    "\n",
    "class ItemSelector(BaseEstimator, TransformerMixin):\n",
    "    def __init__(self, key):\n",
    "        self.key = key\n",
    "\n",
    "    def fit(self, x, y=None):\n",
    "        return self\n",
    "\n",
    "    def transform(self, data_dict):\n",
    "        return data_dict[self.key]\n",
    "\n",
    "def scalar_selector_pipe(key):\n",
    "    return Pipeline([\n",
    "                    ('select', ItemSelector(key=key)),\n",
    "                    ('reshape', Reshape()),\n",
    "                    ])\n",
    "\n",
    "class Reshape(BaseEstimator, TransformerMixin):\n",
    "    def fit(self, x, y=None):\n",
    "        return self\n",
    "\n",
    "    def transform(self, data):\n",
    "        data = np.array(data)\n",
    "        assert len(data.shape) == 1\n",
    "        return data.reshape((-1, 1))"
   ]
  },
  {
   "cell_type": "markdown",
   "metadata": {},
   "source": [
    "# SVM for time response classifier"
   ]
  },
  {
   "cell_type": "code",
   "execution_count": 20,
   "metadata": {
    "ExecuteTime": {
     "end_time": "2019-07-11T21:30:52.596578Z",
     "start_time": "2019-07-11T21:30:52.588235Z"
    }
   },
   "outputs": [],
   "source": [
    "svm_params = {'clf__C': np.logspace(-3,1,5), 'clf__loss': ['squared_hinge']}\n",
    "SVMWithScalars = SklearnModel(\"svm\", text_and_scalars_pipe(['cr_predicted'], LinearSVC(class_weight='balanced', random_state=SEED)), svm_params)"
   ]
  },
  {
   "cell_type": "code",
   "execution_count": 21,
   "metadata": {
    "ExecuteTime": {
     "end_time": "2019-07-11T21:31:48.882119Z",
     "start_time": "2019-07-11T21:30:52.598234Z"
    }
   },
   "outputs": [
    {
     "data": {
      "text/plain": [
       "Pipeline(memory=None,\n",
       "     steps=[('union', FeatureUnion(n_jobs=None,\n",
       "       transformer_list=[('question', Pipeline(memory=None,\n",
       "     steps=[('select', ItemSelector(key='question')), ('vect', CountVectorizer(analyzer='word', binary=False, decode_error='strict',\n",
       "        dtype=<class 'numpy.int64'>, encoding='utf-8', input='co... max_iter=1000,\n",
       "     multi_class='ovr', penalty='l2', random_state=42, tol=0.0001,\n",
       "     verbose=0))])"
      ]
     },
     "execution_count": 21,
     "metadata": {},
     "output_type": "execute_result"
    }
   ],
   "source": [
    "SVMWithScalars.pipe.fit(train_df[['question', 'cr_predicted']], train_df['target'])"
   ]
  },
  {
   "cell_type": "code",
   "execution_count": 22,
   "metadata": {
    "ExecuteTime": {
     "end_time": "2019-07-11T21:31:53.357958Z",
     "start_time": "2019-07-11T21:31:48.885024Z"
    }
   },
   "outputs": [],
   "source": [
    "pred_test = SVMWithScalars.pipe.predict(test_df[['question', 'cr_predicted']])"
   ]
  },
  {
   "cell_type": "code",
   "execution_count": 23,
   "metadata": {
    "ExecuteTime": {
     "end_time": "2019-07-11T21:31:54.654335Z",
     "start_time": "2019-07-11T21:31:53.359560Z"
    }
   },
   "outputs": [
    {
     "name": "stdout",
     "output_type": "stream",
     "text": [
      "              precision    recall  f1-score   support\n",
      "\n",
      "        long       0.62      0.66      0.64     33594\n",
      "       short       0.61      0.57      0.59     30942\n",
      "\n",
      "   micro avg       0.62      0.62      0.62     64536\n",
      "   macro avg       0.62      0.61      0.61     64536\n",
      "weighted avg       0.62      0.62      0.62     64536\n",
      "\n"
     ]
    }
   ],
   "source": [
    "report_test = classification_report(test_df['target'], pred_test)\n",
    "print(report_test)"
   ]
  },
  {
   "cell_type": "code",
   "execution_count": 24,
   "metadata": {
    "ExecuteTime": {
     "end_time": "2019-07-11T21:32:00.367151Z",
     "start_time": "2019-07-11T21:31:54.656126Z"
    }
   },
   "outputs": [
    {
     "name": "stdout",
     "output_type": "stream",
     "text": [
      "              precision    recall  f1-score   support\n",
      "\n",
      "        long       0.62      0.66      0.64     33439\n",
      "       short       0.60      0.56      0.58     31237\n",
      "\n",
      "   micro avg       0.61      0.61      0.61     64676\n",
      "   macro avg       0.61      0.61      0.61     64676\n",
      "weighted avg       0.61      0.61      0.61     64676\n",
      "\n"
     ]
    }
   ],
   "source": [
    "pred_dev = SVMWithScalars.pipe.predict(dev_df[['question', 'cr_predicted']])\n",
    "report_dev = classification_report(dev_df['target'], pred_dev)\n",
    "print(report_dev)"
   ]
  },
  {
   "cell_type": "markdown",
   "metadata": {},
   "source": [
    "# Len + CR\n"
   ]
  },
  {
   "cell_type": "code",
   "execution_count": 25,
   "metadata": {
    "ExecuteTime": {
     "end_time": "2019-07-11T21:32:00.375139Z",
     "start_time": "2019-07-11T21:32:00.370247Z"
    }
   },
   "outputs": [],
   "source": [
    "SVMWithScalars2 = SklearnModel(\"svm\", text_and_scalars_pipe(['cr_predicted', 'len'], LinearSVC(class_weight='balanced', random_state=SEED)), svm_params)"
   ]
  },
  {
   "cell_type": "code",
   "execution_count": 26,
   "metadata": {
    "ExecuteTime": {
     "end_time": "2019-07-11T21:37:03.558984Z",
     "start_time": "2019-07-11T21:32:00.378354Z"
    }
   },
   "outputs": [
    {
     "name": "stderr",
     "output_type": "stream",
     "text": [
      "/home/mrc/anaconda3/envs/ottaa/lib/python3.6/site-packages/sklearn/svm/base.py:931: ConvergenceWarning: Liblinear failed to converge, increase the number of iterations.\n",
      "  \"the number of iterations.\", ConvergenceWarning)\n"
     ]
    },
    {
     "data": {
      "text/plain": [
       "Pipeline(memory=None,\n",
       "     steps=[('union', FeatureUnion(n_jobs=None,\n",
       "       transformer_list=[('question', Pipeline(memory=None,\n",
       "     steps=[('select', ItemSelector(key='question')), ('vect', CountVectorizer(analyzer='word', binary=False, decode_error='strict',\n",
       "        dtype=<class 'numpy.int64'>, encoding='utf-8', input='co... max_iter=1000,\n",
       "     multi_class='ovr', penalty='l2', random_state=42, tol=0.0001,\n",
       "     verbose=0))])"
      ]
     },
     "execution_count": 26,
     "metadata": {},
     "output_type": "execute_result"
    }
   ],
   "source": [
    "SVMWithScalars2.pipe.fit(train_df[['question', 'cr_predicted', 'len']], train_df['target'])"
   ]
  },
  {
   "cell_type": "code",
   "execution_count": 27,
   "metadata": {
    "ExecuteTime": {
     "end_time": "2019-07-11T21:37:10.351892Z",
     "start_time": "2019-07-11T21:37:03.562483Z"
    }
   },
   "outputs": [
    {
     "name": "stdout",
     "output_type": "stream",
     "text": [
      "              precision    recall  f1-score   support\n",
      "\n",
      "        long       0.57      0.82      0.68     33439\n",
      "       short       0.64      0.35      0.45     31237\n",
      "\n",
      "   micro avg       0.59      0.59      0.59     64676\n",
      "   macro avg       0.61      0.58      0.56     64676\n",
      "weighted avg       0.61      0.59      0.57     64676\n",
      "\n"
     ]
    }
   ],
   "source": [
    "pred_dev2 = SVMWithScalars2.pipe.predict(dev_df[['question', 'cr_predicted', 'len']])\n",
    "report_dev2 = classification_report(dev_df['target'], pred_dev2)\n",
    "print(report_dev2)"
   ]
  },
  {
   "cell_type": "code",
   "execution_count": 28,
   "metadata": {
    "ExecuteTime": {
     "end_time": "2019-07-11T21:37:16.489216Z",
     "start_time": "2019-07-11T21:37:10.354046Z"
    }
   },
   "outputs": [
    {
     "name": "stdout",
     "output_type": "stream",
     "text": [
      "              precision    recall  f1-score   support\n",
      "\n",
      "        long       0.58      0.83      0.68     33594\n",
      "       short       0.66      0.36      0.46     30942\n",
      "\n",
      "   micro avg       0.60      0.60      0.60     64536\n",
      "   macro avg       0.62      0.59      0.57     64536\n",
      "weighted avg       0.62      0.60      0.58     64536\n",
      "\n"
     ]
    }
   ],
   "source": [
    "pred_test2 = SVMWithScalars2.pipe.predict(test_df[['question', 'cr_predicted', 'len']])\n",
    "report_test2 = classification_report(test_df['target'], pred_test2)\n",
    "print(report_test2)"
   ]
  },
  {
   "cell_type": "code",
   "execution_count": 29,
   "metadata": {
    "ExecuteTime": {
     "end_time": "2019-07-11T21:37:16.496751Z",
     "start_time": "2019-07-11T21:37:16.493174Z"
    }
   },
   "outputs": [],
   "source": [
    "log_params = {'clf__C': np.logspace(-3,0,3), 'clf__penalty': ['l2']}\n",
    "LogisticWithScalars = SklearnModel(\"logistic\", text_and_scalars_pipe(['cr_predicted'], LogisticRegression(class_weight='balanced', random_state=SEED)), log_params)"
   ]
  },
  {
   "cell_type": "markdown",
   "metadata": {},
   "source": [
    "# LR for time response classifier"
   ]
  },
  {
   "cell_type": "code",
   "execution_count": 30,
   "metadata": {
    "ExecuteTime": {
     "end_time": "2019-07-11T21:38:39.687118Z",
     "start_time": "2019-07-11T21:37:16.499072Z"
    }
   },
   "outputs": [
    {
     "name": "stderr",
     "output_type": "stream",
     "text": [
      "/home/mrc/anaconda3/envs/ottaa/lib/python3.6/site-packages/sklearn/linear_model/logistic.py:433: FutureWarning: Default solver will be changed to 'lbfgs' in 0.22. Specify a solver to silence this warning.\n",
      "  FutureWarning)\n"
     ]
    },
    {
     "data": {
      "text/plain": [
       "Pipeline(memory=None,\n",
       "     steps=[('union', FeatureUnion(n_jobs=None,\n",
       "       transformer_list=[('question', Pipeline(memory=None,\n",
       "     steps=[('select', ItemSelector(key='question')), ('vect', CountVectorizer(analyzer='word', binary=False, decode_error='strict',\n",
       "        dtype=<class 'numpy.int64'>, encoding='utf-8', input='co..., penalty='l2', random_state=42,\n",
       "          solver='warn', tol=0.0001, verbose=0, warm_start=False))])"
      ]
     },
     "execution_count": 30,
     "metadata": {},
     "output_type": "execute_result"
    }
   ],
   "source": [
    "LogisticWithScalars.pipe.fit(train_df[['question', 'cr_predicted']], train_df['target'])"
   ]
  },
  {
   "cell_type": "code",
   "execution_count": 31,
   "metadata": {
    "ExecuteTime": {
     "end_time": "2019-07-11T21:38:44.277627Z",
     "start_time": "2019-07-11T21:38:39.690815Z"
    }
   },
   "outputs": [],
   "source": [
    "pred_test = LogisticWithScalars.pipe.predict(test_df[['question', 'cr_predicted']])"
   ]
  },
  {
   "cell_type": "code",
   "execution_count": 32,
   "metadata": {
    "ExecuteTime": {
     "end_time": "2019-07-11T21:38:45.578728Z",
     "start_time": "2019-07-11T21:38:44.279248Z"
    }
   },
   "outputs": [
    {
     "name": "stdout",
     "output_type": "stream",
     "text": [
      "              precision    recall  f1-score   support\n",
      "\n",
      "        long       0.64      0.70      0.67     33594\n",
      "       short       0.63      0.57      0.60     30942\n",
      "\n",
      "   micro avg       0.64      0.64      0.64     64536\n",
      "   macro avg       0.64      0.63      0.63     64536\n",
      "weighted avg       0.64      0.64      0.63     64536\n",
      "\n"
     ]
    }
   ],
   "source": [
    "report_test = classification_report(test_df['target'], pred_test)\n",
    "print(report_test)"
   ]
  },
  {
   "cell_type": "code",
   "execution_count": 33,
   "metadata": {
    "ExecuteTime": {
     "end_time": "2019-07-11T21:38:51.248602Z",
     "start_time": "2019-07-11T21:38:45.580459Z"
    }
   },
   "outputs": [
    {
     "name": "stdout",
     "output_type": "stream",
     "text": [
      "              precision    recall  f1-score   support\n",
      "\n",
      "        long       0.63      0.69      0.66     33439\n",
      "       short       0.63      0.56      0.59     31237\n",
      "\n",
      "   micro avg       0.63      0.63      0.63     64676\n",
      "   macro avg       0.63      0.63      0.63     64676\n",
      "weighted avg       0.63      0.63      0.63     64676\n",
      "\n"
     ]
    }
   ],
   "source": [
    "pred_dev = LogisticWithScalars.pipe.predict(dev_df[['question', 'cr_predicted']])\n",
    "report_dev = classification_report(dev_df['target'], pred_dev)\n",
    "print(report_dev)"
   ]
  },
  {
   "cell_type": "markdown",
   "metadata": {},
   "source": [
    "# LR + CR + LEN"
   ]
  },
  {
   "cell_type": "code",
   "execution_count": 34,
   "metadata": {
    "ExecuteTime": {
     "end_time": "2019-07-11T21:38:51.257641Z",
     "start_time": "2019-07-11T21:38:51.251544Z"
    }
   },
   "outputs": [],
   "source": [
    "LogisticWithScalars2 = SklearnModel(\"logistic\", text_and_scalars_pipe(['cr_predicted', 'len'], LogisticRegression(class_weight='balanced', random_state=SEED)), log_params)"
   ]
  },
  {
   "cell_type": "code",
   "execution_count": 35,
   "metadata": {
    "ExecuteTime": {
     "end_time": "2019-07-11T21:40:47.482981Z",
     "start_time": "2019-07-11T21:38:51.259060Z"
    }
   },
   "outputs": [
    {
     "data": {
      "text/plain": [
       "Pipeline(memory=None,\n",
       "     steps=[('union', FeatureUnion(n_jobs=None,\n",
       "       transformer_list=[('question', Pipeline(memory=None,\n",
       "     steps=[('select', ItemSelector(key='question')), ('vect', CountVectorizer(analyzer='word', binary=False, decode_error='strict',\n",
       "        dtype=<class 'numpy.int64'>, encoding='utf-8', input='co..., penalty='l2', random_state=42,\n",
       "          solver='warn', tol=0.0001, verbose=0, warm_start=False))])"
      ]
     },
     "execution_count": 35,
     "metadata": {},
     "output_type": "execute_result"
    }
   ],
   "source": [
    "LogisticWithScalars2.pipe.fit(train_df[['question', 'cr_predicted', 'len']], train_df['target'])"
   ]
  },
  {
   "cell_type": "code",
   "execution_count": 36,
   "metadata": {
    "ExecuteTime": {
     "end_time": "2019-07-11T21:40:52.432542Z",
     "start_time": "2019-07-11T21:40:47.486260Z"
    }
   },
   "outputs": [],
   "source": [
    "pred_test2 = LogisticWithScalars2.pipe.predict(test_df[['question', 'cr_predicted', 'len']])"
   ]
  },
  {
   "cell_type": "code",
   "execution_count": 37,
   "metadata": {
    "ExecuteTime": {
     "end_time": "2019-07-11T21:40:53.889321Z",
     "start_time": "2019-07-11T21:40:52.434182Z"
    }
   },
   "outputs": [
    {
     "name": "stdout",
     "output_type": "stream",
     "text": [
      "              precision    recall  f1-score   support\n",
      "\n",
      "        long       0.65      0.66      0.65     33594\n",
      "       short       0.62      0.61      0.62     30942\n",
      "\n",
      "   micro avg       0.64      0.64      0.64     64536\n",
      "   macro avg       0.64      0.64      0.64     64536\n",
      "weighted avg       0.64      0.64      0.64     64536\n",
      "\n"
     ]
    }
   ],
   "source": [
    "report_test2 = classification_report(test_df['target'], pred_test2)\n",
    "print(report_test2)"
   ]
  },
  {
   "cell_type": "code",
   "execution_count": 38,
   "metadata": {
    "ExecuteTime": {
     "end_time": "2019-07-11T21:40:59.939806Z",
     "start_time": "2019-07-11T21:40:53.891757Z"
    }
   },
   "outputs": [
    {
     "name": "stdout",
     "output_type": "stream",
     "text": [
      "              precision    recall  f1-score   support\n",
      "\n",
      "        long       0.64      0.65      0.65     33439\n",
      "       short       0.62      0.61      0.61     31237\n",
      "\n",
      "   micro avg       0.63      0.63      0.63     64676\n",
      "   macro avg       0.63      0.63      0.63     64676\n",
      "weighted avg       0.63      0.63      0.63     64676\n",
      "\n"
     ]
    }
   ],
   "source": [
    "pred_dev2 = LogisticWithScalars2.pipe.predict(dev_df[['question', 'cr_predicted', 'len']])\n",
    "report_dev2 = classification_report(dev_df['target'], pred_dev2)\n",
    "print(report_dev2)"
   ]
  },
  {
   "cell_type": "markdown",
   "metadata": {},
   "source": [
    "# Dataset Analysis"
   ]
  },
  {
   "cell_type": "code",
   "execution_count": 40,
   "metadata": {
    "ExecuteTime": {
     "end_time": "2019-07-11T21:40:59.993504Z",
     "start_time": "2019-07-11T21:40:59.968669Z"
    }
   },
   "outputs": [
    {
     "data": {
      "text/plain": [
       "Counter({'long': 29882, 'short': 16499})"
      ]
     },
     "execution_count": 40,
     "metadata": {},
     "output_type": "execute_result"
    }
   ],
   "source": [
    "from collections import Counter\n",
    "Counter(cr_df[cr_df.cr == 1]['target'])"
   ]
  },
  {
   "cell_type": "code",
   "execution_count": 41,
   "metadata": {
    "ExecuteTime": {
     "end_time": "2019-07-11T21:41:00.019913Z",
     "start_time": "2019-07-11T21:40:59.996713Z"
    }
   },
   "outputs": [
    {
     "data": {
      "text/plain": [
       "Counter({1: 46381, 0: 46381})"
      ]
     },
     "execution_count": 41,
     "metadata": {},
     "output_type": "execute_result"
    }
   ],
   "source": [
    "Counter(cr_df.cr)"
   ]
  },
  {
   "cell_type": "code",
   "execution_count": 42,
   "metadata": {
    "ExecuteTime": {
     "end_time": "2019-07-11T21:41:00.068794Z",
     "start_time": "2019-07-11T21:41:00.024293Z"
    }
   },
   "outputs": [
    {
     "data": {
      "text/plain": [
       "Counter({'long': 156793, 'short': 146023})"
      ]
     },
     "execution_count": 42,
     "metadata": {},
     "output_type": "execute_result"
    }
   ],
   "source": [
    "Counter(train_df['target'])"
   ]
  },
  {
   "cell_type": "code",
   "execution_count": 43,
   "metadata": {
    "ExecuteTime": {
     "end_time": "2019-07-11T21:41:00.087327Z",
     "start_time": "2019-07-11T21:41:00.071993Z"
    }
   },
   "outputs": [
    {
     "data": {
      "text/plain": [
       "Counter({'short': 30942, 'long': 33594})"
      ]
     },
     "execution_count": 43,
     "metadata": {},
     "output_type": "execute_result"
    }
   ],
   "source": [
    "Counter(test_df['target'])"
   ]
  },
  {
   "cell_type": "code",
   "execution_count": 44,
   "metadata": {
    "ExecuteTime": {
     "end_time": "2019-07-11T21:41:00.107793Z",
     "start_time": "2019-07-11T21:41:00.089132Z"
    }
   },
   "outputs": [
    {
     "data": {
      "text/plain": [
       "Counter({'short': 31237, 'long': 33439})"
      ]
     },
     "execution_count": 44,
     "metadata": {},
     "output_type": "execute_result"
    }
   ],
   "source": [
    "Counter(dev_df['target'])"
   ]
  },
  {
   "cell_type": "code",
   "execution_count": null,
   "metadata": {},
   "outputs": [],
   "source": []
  }
 ],
 "metadata": {
  "kernelspec": {
   "display_name": "Python 3",
   "language": "python",
   "name": "python3"
  },
  "language_info": {
   "codemirror_mode": {
    "name": "ipython",
    "version": 3
   },
   "file_extension": ".py",
   "mimetype": "text/x-python",
   "name": "python",
   "nbconvert_exporter": "python",
   "pygments_lexer": "ipython3",
   "version": "3.6.8"
  }
 },
 "nbformat": 4,
 "nbformat_minor": 2
}
